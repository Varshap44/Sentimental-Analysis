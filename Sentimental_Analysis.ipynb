{
  "nbformat": 4,
  "nbformat_minor": 0,
  "metadata": {
    "colab": {
      "provenance": [],
      "authorship_tag": "ABX9TyNMH0O/FtSzAaC0w3lekRUY",
      "include_colab_link": true
    },
    "kernelspec": {
      "name": "python3",
      "display_name": "Python 3"
    },
    "language_info": {
      "name": "python"
    }
  },
  "cells": [
    {
      "cell_type": "markdown",
      "metadata": {
        "id": "view-in-github",
        "colab_type": "text"
      },
      "source": [
        "<a href=\"https://colab.research.google.com/github/Varshap44/Sentimental-Analysis/blob/main/Sentimental_Analysis.ipynb\" target=\"_parent\"><img src=\"https://colab.research.google.com/assets/colab-badge.svg\" alt=\"Open In Colab\"/></a>"
      ]
    },
    {
      "cell_type": "code",
      "source": [
        "import pandas as pd\n",
        "import numpy as np\n",
        "import matplotlib.pyplot as plt\n",
        "\n",
        "\n"
      ],
      "metadata": {
        "id": "NQtonAghqBoB"
      },
      "execution_count": null,
      "outputs": []
    },
    {
      "cell_type": "code",
      "source": [
        "#creating dataframe\n",
        "df=pd.read_csv('/content/mobile_price_range_data (2).csv')\n",
        "\n"
      ],
      "metadata": {
        "id": "FBuIJP-0qSbc"
      },
      "execution_count": null,
      "outputs": []
    },
    {
      "cell_type": "code",
      "source": [
        "df"
      ],
      "metadata": {
        "colab": {
          "base_uri": "https://localhost:8080/",
          "height": 487
        },
        "id": "bh-WtYACq4OK",
        "outputId": "d5ddc7ea-d89e-4723-c0eb-3aab6ac095fa"
      },
      "execution_count": null,
      "outputs": [
        {
          "output_type": "execute_result",
          "data": {
            "text/plain": [
              "      battery_power  blue  clock_speed  dual_sim  fc  four_g  int_memory  \\\n",
              "0               842     0          2.2         0   1       0           7   \n",
              "1              1021     1          0.5         1   0       1          53   \n",
              "2               563     1          0.5         1   2       1          41   \n",
              "3               615     1          2.5         0   0       0          10   \n",
              "4              1821     1          1.2         0  13       1          44   \n",
              "...             ...   ...          ...       ...  ..     ...         ...   \n",
              "1995            794     1          0.5         1   0       1           2   \n",
              "1996           1965     1          2.6         1   0       0          39   \n",
              "1997           1911     0          0.9         1   1       1          36   \n",
              "1998           1512     0          0.9         0   4       1          46   \n",
              "1999            510     1          2.0         1   5       1          45   \n",
              "\n",
              "      m_dep  mobile_wt  n_cores  ...  px_height  px_width   ram  sc_h  sc_w  \\\n",
              "0       0.6        188        2  ...         20       756  2549     9     7   \n",
              "1       0.7        136        3  ...        905      1988  2631    17     3   \n",
              "2       0.9        145        5  ...       1263      1716  2603    11     2   \n",
              "3       0.8        131        6  ...       1216      1786  2769    16     8   \n",
              "4       0.6        141        2  ...       1208      1212  1411     8     2   \n",
              "...     ...        ...      ...  ...        ...       ...   ...   ...   ...   \n",
              "1995    0.8        106        6  ...       1222      1890   668    13     4   \n",
              "1996    0.2        187        4  ...        915      1965  2032    11    10   \n",
              "1997    0.7        108        8  ...        868      1632  3057     9     1   \n",
              "1998    0.1        145        5  ...        336       670   869    18    10   \n",
              "1999    0.9        168        6  ...        483       754  3919    19     4   \n",
              "\n",
              "      talk_time  three_g  touch_screen  wifi  price_range  \n",
              "0            19        0             0     1            1  \n",
              "1             7        1             1     0            2  \n",
              "2             9        1             1     0            2  \n",
              "3            11        1             0     0            2  \n",
              "4            15        1             1     0            1  \n",
              "...         ...      ...           ...   ...          ...  \n",
              "1995         19        1             1     0            0  \n",
              "1996         16        1             1     1            2  \n",
              "1997          5        1             1     0            3  \n",
              "1998         19        1             1     1            0  \n",
              "1999          2        1             1     1            3  \n",
              "\n",
              "[2000 rows x 21 columns]"
            ],
            "text/html": [
              "\n",
              "  <div id=\"df-458d5b8e-67fc-4ece-88d9-327678b0a309\">\n",
              "    <div class=\"colab-df-container\">\n",
              "      <div>\n",
              "<style scoped>\n",
              "    .dataframe tbody tr th:only-of-type {\n",
              "        vertical-align: middle;\n",
              "    }\n",
              "\n",
              "    .dataframe tbody tr th {\n",
              "        vertical-align: top;\n",
              "    }\n",
              "\n",
              "    .dataframe thead th {\n",
              "        text-align: right;\n",
              "    }\n",
              "</style>\n",
              "<table border=\"1\" class=\"dataframe\">\n",
              "  <thead>\n",
              "    <tr style=\"text-align: right;\">\n",
              "      <th></th>\n",
              "      <th>battery_power</th>\n",
              "      <th>blue</th>\n",
              "      <th>clock_speed</th>\n",
              "      <th>dual_sim</th>\n",
              "      <th>fc</th>\n",
              "      <th>four_g</th>\n",
              "      <th>int_memory</th>\n",
              "      <th>m_dep</th>\n",
              "      <th>mobile_wt</th>\n",
              "      <th>n_cores</th>\n",
              "      <th>...</th>\n",
              "      <th>px_height</th>\n",
              "      <th>px_width</th>\n",
              "      <th>ram</th>\n",
              "      <th>sc_h</th>\n",
              "      <th>sc_w</th>\n",
              "      <th>talk_time</th>\n",
              "      <th>three_g</th>\n",
              "      <th>touch_screen</th>\n",
              "      <th>wifi</th>\n",
              "      <th>price_range</th>\n",
              "    </tr>\n",
              "  </thead>\n",
              "  <tbody>\n",
              "    <tr>\n",
              "      <th>0</th>\n",
              "      <td>842</td>\n",
              "      <td>0</td>\n",
              "      <td>2.2</td>\n",
              "      <td>0</td>\n",
              "      <td>1</td>\n",
              "      <td>0</td>\n",
              "      <td>7</td>\n",
              "      <td>0.6</td>\n",
              "      <td>188</td>\n",
              "      <td>2</td>\n",
              "      <td>...</td>\n",
              "      <td>20</td>\n",
              "      <td>756</td>\n",
              "      <td>2549</td>\n",
              "      <td>9</td>\n",
              "      <td>7</td>\n",
              "      <td>19</td>\n",
              "      <td>0</td>\n",
              "      <td>0</td>\n",
              "      <td>1</td>\n",
              "      <td>1</td>\n",
              "    </tr>\n",
              "    <tr>\n",
              "      <th>1</th>\n",
              "      <td>1021</td>\n",
              "      <td>1</td>\n",
              "      <td>0.5</td>\n",
              "      <td>1</td>\n",
              "      <td>0</td>\n",
              "      <td>1</td>\n",
              "      <td>53</td>\n",
              "      <td>0.7</td>\n",
              "      <td>136</td>\n",
              "      <td>3</td>\n",
              "      <td>...</td>\n",
              "      <td>905</td>\n",
              "      <td>1988</td>\n",
              "      <td>2631</td>\n",
              "      <td>17</td>\n",
              "      <td>3</td>\n",
              "      <td>7</td>\n",
              "      <td>1</td>\n",
              "      <td>1</td>\n",
              "      <td>0</td>\n",
              "      <td>2</td>\n",
              "    </tr>\n",
              "    <tr>\n",
              "      <th>2</th>\n",
              "      <td>563</td>\n",
              "      <td>1</td>\n",
              "      <td>0.5</td>\n",
              "      <td>1</td>\n",
              "      <td>2</td>\n",
              "      <td>1</td>\n",
              "      <td>41</td>\n",
              "      <td>0.9</td>\n",
              "      <td>145</td>\n",
              "      <td>5</td>\n",
              "      <td>...</td>\n",
              "      <td>1263</td>\n",
              "      <td>1716</td>\n",
              "      <td>2603</td>\n",
              "      <td>11</td>\n",
              "      <td>2</td>\n",
              "      <td>9</td>\n",
              "      <td>1</td>\n",
              "      <td>1</td>\n",
              "      <td>0</td>\n",
              "      <td>2</td>\n",
              "    </tr>\n",
              "    <tr>\n",
              "      <th>3</th>\n",
              "      <td>615</td>\n",
              "      <td>1</td>\n",
              "      <td>2.5</td>\n",
              "      <td>0</td>\n",
              "      <td>0</td>\n",
              "      <td>0</td>\n",
              "      <td>10</td>\n",
              "      <td>0.8</td>\n",
              "      <td>131</td>\n",
              "      <td>6</td>\n",
              "      <td>...</td>\n",
              "      <td>1216</td>\n",
              "      <td>1786</td>\n",
              "      <td>2769</td>\n",
              "      <td>16</td>\n",
              "      <td>8</td>\n",
              "      <td>11</td>\n",
              "      <td>1</td>\n",
              "      <td>0</td>\n",
              "      <td>0</td>\n",
              "      <td>2</td>\n",
              "    </tr>\n",
              "    <tr>\n",
              "      <th>4</th>\n",
              "      <td>1821</td>\n",
              "      <td>1</td>\n",
              "      <td>1.2</td>\n",
              "      <td>0</td>\n",
              "      <td>13</td>\n",
              "      <td>1</td>\n",
              "      <td>44</td>\n",
              "      <td>0.6</td>\n",
              "      <td>141</td>\n",
              "      <td>2</td>\n",
              "      <td>...</td>\n",
              "      <td>1208</td>\n",
              "      <td>1212</td>\n",
              "      <td>1411</td>\n",
              "      <td>8</td>\n",
              "      <td>2</td>\n",
              "      <td>15</td>\n",
              "      <td>1</td>\n",
              "      <td>1</td>\n",
              "      <td>0</td>\n",
              "      <td>1</td>\n",
              "    </tr>\n",
              "    <tr>\n",
              "      <th>...</th>\n",
              "      <td>...</td>\n",
              "      <td>...</td>\n",
              "      <td>...</td>\n",
              "      <td>...</td>\n",
              "      <td>...</td>\n",
              "      <td>...</td>\n",
              "      <td>...</td>\n",
              "      <td>...</td>\n",
              "      <td>...</td>\n",
              "      <td>...</td>\n",
              "      <td>...</td>\n",
              "      <td>...</td>\n",
              "      <td>...</td>\n",
              "      <td>...</td>\n",
              "      <td>...</td>\n",
              "      <td>...</td>\n",
              "      <td>...</td>\n",
              "      <td>...</td>\n",
              "      <td>...</td>\n",
              "      <td>...</td>\n",
              "      <td>...</td>\n",
              "    </tr>\n",
              "    <tr>\n",
              "      <th>1995</th>\n",
              "      <td>794</td>\n",
              "      <td>1</td>\n",
              "      <td>0.5</td>\n",
              "      <td>1</td>\n",
              "      <td>0</td>\n",
              "      <td>1</td>\n",
              "      <td>2</td>\n",
              "      <td>0.8</td>\n",
              "      <td>106</td>\n",
              "      <td>6</td>\n",
              "      <td>...</td>\n",
              "      <td>1222</td>\n",
              "      <td>1890</td>\n",
              "      <td>668</td>\n",
              "      <td>13</td>\n",
              "      <td>4</td>\n",
              "      <td>19</td>\n",
              "      <td>1</td>\n",
              "      <td>1</td>\n",
              "      <td>0</td>\n",
              "      <td>0</td>\n",
              "    </tr>\n",
              "    <tr>\n",
              "      <th>1996</th>\n",
              "      <td>1965</td>\n",
              "      <td>1</td>\n",
              "      <td>2.6</td>\n",
              "      <td>1</td>\n",
              "      <td>0</td>\n",
              "      <td>0</td>\n",
              "      <td>39</td>\n",
              "      <td>0.2</td>\n",
              "      <td>187</td>\n",
              "      <td>4</td>\n",
              "      <td>...</td>\n",
              "      <td>915</td>\n",
              "      <td>1965</td>\n",
              "      <td>2032</td>\n",
              "      <td>11</td>\n",
              "      <td>10</td>\n",
              "      <td>16</td>\n",
              "      <td>1</td>\n",
              "      <td>1</td>\n",
              "      <td>1</td>\n",
              "      <td>2</td>\n",
              "    </tr>\n",
              "    <tr>\n",
              "      <th>1997</th>\n",
              "      <td>1911</td>\n",
              "      <td>0</td>\n",
              "      <td>0.9</td>\n",
              "      <td>1</td>\n",
              "      <td>1</td>\n",
              "      <td>1</td>\n",
              "      <td>36</td>\n",
              "      <td>0.7</td>\n",
              "      <td>108</td>\n",
              "      <td>8</td>\n",
              "      <td>...</td>\n",
              "      <td>868</td>\n",
              "      <td>1632</td>\n",
              "      <td>3057</td>\n",
              "      <td>9</td>\n",
              "      <td>1</td>\n",
              "      <td>5</td>\n",
              "      <td>1</td>\n",
              "      <td>1</td>\n",
              "      <td>0</td>\n",
              "      <td>3</td>\n",
              "    </tr>\n",
              "    <tr>\n",
              "      <th>1998</th>\n",
              "      <td>1512</td>\n",
              "      <td>0</td>\n",
              "      <td>0.9</td>\n",
              "      <td>0</td>\n",
              "      <td>4</td>\n",
              "      <td>1</td>\n",
              "      <td>46</td>\n",
              "      <td>0.1</td>\n",
              "      <td>145</td>\n",
              "      <td>5</td>\n",
              "      <td>...</td>\n",
              "      <td>336</td>\n",
              "      <td>670</td>\n",
              "      <td>869</td>\n",
              "      <td>18</td>\n",
              "      <td>10</td>\n",
              "      <td>19</td>\n",
              "      <td>1</td>\n",
              "      <td>1</td>\n",
              "      <td>1</td>\n",
              "      <td>0</td>\n",
              "    </tr>\n",
              "    <tr>\n",
              "      <th>1999</th>\n",
              "      <td>510</td>\n",
              "      <td>1</td>\n",
              "      <td>2.0</td>\n",
              "      <td>1</td>\n",
              "      <td>5</td>\n",
              "      <td>1</td>\n",
              "      <td>45</td>\n",
              "      <td>0.9</td>\n",
              "      <td>168</td>\n",
              "      <td>6</td>\n",
              "      <td>...</td>\n",
              "      <td>483</td>\n",
              "      <td>754</td>\n",
              "      <td>3919</td>\n",
              "      <td>19</td>\n",
              "      <td>4</td>\n",
              "      <td>2</td>\n",
              "      <td>1</td>\n",
              "      <td>1</td>\n",
              "      <td>1</td>\n",
              "      <td>3</td>\n",
              "    </tr>\n",
              "  </tbody>\n",
              "</table>\n",
              "<p>2000 rows × 21 columns</p>\n",
              "</div>\n",
              "      <button class=\"colab-df-convert\" onclick=\"convertToInteractive('df-458d5b8e-67fc-4ece-88d9-327678b0a309')\"\n",
              "              title=\"Convert this dataframe to an interactive table.\"\n",
              "              style=\"display:none;\">\n",
              "        \n",
              "  <svg xmlns=\"http://www.w3.org/2000/svg\" height=\"24px\"viewBox=\"0 0 24 24\"\n",
              "       width=\"24px\">\n",
              "    <path d=\"M0 0h24v24H0V0z\" fill=\"none\"/>\n",
              "    <path d=\"M18.56 5.44l.94 2.06.94-2.06 2.06-.94-2.06-.94-.94-2.06-.94 2.06-2.06.94zm-11 1L8.5 8.5l.94-2.06 2.06-.94-2.06-.94L8.5 2.5l-.94 2.06-2.06.94zm10 10l.94 2.06.94-2.06 2.06-.94-2.06-.94-.94-2.06-.94 2.06-2.06.94z\"/><path d=\"M17.41 7.96l-1.37-1.37c-.4-.4-.92-.59-1.43-.59-.52 0-1.04.2-1.43.59L10.3 9.45l-7.72 7.72c-.78.78-.78 2.05 0 2.83L4 21.41c.39.39.9.59 1.41.59.51 0 1.02-.2 1.41-.59l7.78-7.78 2.81-2.81c.8-.78.8-2.07 0-2.86zM5.41 20L4 18.59l7.72-7.72 1.47 1.35L5.41 20z\"/>\n",
              "  </svg>\n",
              "      </button>\n",
              "      \n",
              "  <style>\n",
              "    .colab-df-container {\n",
              "      display:flex;\n",
              "      flex-wrap:wrap;\n",
              "      gap: 12px;\n",
              "    }\n",
              "\n",
              "    .colab-df-convert {\n",
              "      background-color: #E8F0FE;\n",
              "      border: none;\n",
              "      border-radius: 50%;\n",
              "      cursor: pointer;\n",
              "      display: none;\n",
              "      fill: #1967D2;\n",
              "      height: 32px;\n",
              "      padding: 0 0 0 0;\n",
              "      width: 32px;\n",
              "    }\n",
              "\n",
              "    .colab-df-convert:hover {\n",
              "      background-color: #E2EBFA;\n",
              "      box-shadow: 0px 1px 2px rgba(60, 64, 67, 0.3), 0px 1px 3px 1px rgba(60, 64, 67, 0.15);\n",
              "      fill: #174EA6;\n",
              "    }\n",
              "\n",
              "    [theme=dark] .colab-df-convert {\n",
              "      background-color: #3B4455;\n",
              "      fill: #D2E3FC;\n",
              "    }\n",
              "\n",
              "    [theme=dark] .colab-df-convert:hover {\n",
              "      background-color: #434B5C;\n",
              "      box-shadow: 0px 1px 3px 1px rgba(0, 0, 0, 0.15);\n",
              "      filter: drop-shadow(0px 1px 2px rgba(0, 0, 0, 0.3));\n",
              "      fill: #FFFFFF;\n",
              "    }\n",
              "  </style>\n",
              "\n",
              "      <script>\n",
              "        const buttonEl =\n",
              "          document.querySelector('#df-458d5b8e-67fc-4ece-88d9-327678b0a309 button.colab-df-convert');\n",
              "        buttonEl.style.display =\n",
              "          google.colab.kernel.accessAllowed ? 'block' : 'none';\n",
              "\n",
              "        async function convertToInteractive(key) {\n",
              "          const element = document.querySelector('#df-458d5b8e-67fc-4ece-88d9-327678b0a309');\n",
              "          const dataTable =\n",
              "            await google.colab.kernel.invokeFunction('convertToInteractive',\n",
              "                                                     [key], {});\n",
              "          if (!dataTable) return;\n",
              "\n",
              "          const docLinkHtml = 'Like what you see? Visit the ' +\n",
              "            '<a target=\"_blank\" href=https://colab.research.google.com/notebooks/data_table.ipynb>data table notebook</a>'\n",
              "            + ' to learn more about interactive tables.';\n",
              "          element.innerHTML = '';\n",
              "          dataTable['output_type'] = 'display_data';\n",
              "          await google.colab.output.renderOutput(dataTable, element);\n",
              "          const docLink = document.createElement('div');\n",
              "          docLink.innerHTML = docLinkHtml;\n",
              "          element.appendChild(docLink);\n",
              "        }\n",
              "      </script>\n",
              "    </div>\n",
              "  </div>\n",
              "  "
            ]
          },
          "metadata": {},
          "execution_count": 247
        }
      ]
    },
    {
      "cell_type": "markdown",
      "source": [
        "# 1.Remove all Null Values"
      ],
      "metadata": {
        "id": "9CeMlJ0ubStB"
      }
    },
    {
      "cell_type": "code",
      "source": [
        "df.isnull().sum() #tells the null value"
      ],
      "metadata": {
        "colab": {
          "base_uri": "https://localhost:8080/"
        },
        "id": "iNYXGQRirDqD",
        "outputId": "272dae98-f772-44dd-ab15-0e1005394186"
      },
      "execution_count": null,
      "outputs": [
        {
          "output_type": "execute_result",
          "data": {
            "text/plain": [
              "battery_power    0\n",
              "blue             0\n",
              "clock_speed      0\n",
              "dual_sim         0\n",
              "fc               0\n",
              "four_g           0\n",
              "int_memory       0\n",
              "m_dep            0\n",
              "mobile_wt        0\n",
              "n_cores          0\n",
              "pc               0\n",
              "px_height        0\n",
              "px_width         0\n",
              "ram              0\n",
              "sc_h             0\n",
              "sc_w             0\n",
              "talk_time        0\n",
              "three_g          0\n",
              "touch_screen     0\n",
              "wifi             0\n",
              "price_range      0\n",
              "dtype: int64"
            ]
          },
          "metadata": {},
          "execution_count": 248
        }
      ]
    },
    {
      "cell_type": "markdown",
      "source": [
        "## 2.Split data into training and test data."
      ],
      "metadata": {
        "id": "EUhfgyS6WDxu"
      }
    },
    {
      "cell_type": "code",
      "source": [
        "x=df.iloc[:,:-1]\n",
        "y=df.iloc[:,-1]\n",
        "print(x.shape)\n",
        "print(y.shape)"
      ],
      "metadata": {
        "colab": {
          "base_uri": "https://localhost:8080/"
        },
        "id": "LVbow1I8LuWL",
        "outputId": "835dd7d2-da46-459e-a820-5b584d0309aa"
      },
      "execution_count": null,
      "outputs": [
        {
          "output_type": "stream",
          "name": "stdout",
          "text": [
            "(2000, 20)\n",
            "(2000,)\n"
          ]
        }
      ]
    },
    {
      "cell_type": "code",
      "source": [
        "print(type(x))\n",
        "print(type(y))"
      ],
      "metadata": {
        "colab": {
          "base_uri": "https://localhost:8080/"
        },
        "id": "4yPtpiD5MrJL",
        "outputId": "02fefd3a-53bb-4782-bde9-47df14397d17"
      },
      "execution_count": null,
      "outputs": [
        {
          "output_type": "stream",
          "name": "stdout",
          "text": [
            "<class 'pandas.core.frame.DataFrame'>\n",
            "<class 'pandas.core.series.Series'>\n"
          ]
        }
      ]
    },
    {
      "cell_type": "code",
      "source": [
        "#2. Split data into training and test data.\n",
        "from sklearn.model_selection import train_test_split\n",
        "x_train, x_test, y_train, y_test= train_test_split(x, y, test_size= 0.25)\n",
        "print(x_train.shape)\n",
        "print(x_test.shape)\n",
        "print(y_train.shape)\n",
        "print(y_test.shape)\n",
        "\n",
        ""
      ],
      "metadata": {
        "colab": {
          "base_uri": "https://localhost:8080/"
        },
        "id": "Fd50SV-UwFmM",
        "outputId": "e64e2c7e-203a-4d83-98e2-7bade7f5487d"
      },
      "execution_count": null,
      "outputs": [
        {
          "output_type": "stream",
          "name": "stdout",
          "text": [
            "(1500, 20)\n",
            "(500, 20)\n",
            "(1500,)\n",
            "(500,)\n"
          ]
        }
      ]
    },
    {
      "cell_type": "code",
      "source": [
        "x_train.head()"
      ],
      "metadata": {
        "colab": {
          "base_uri": "https://localhost:8080/",
          "height": 270
        },
        "id": "gAoepvUSW7ez",
        "outputId": "d63ec4e2-3f1f-4d92-b057-0310557ea34d"
      },
      "execution_count": null,
      "outputs": [
        {
          "output_type": "execute_result",
          "data": {
            "text/plain": [
              "      battery_power  blue  clock_speed  dual_sim  fc  four_g  int_memory  \\\n",
              "439            1469     0          2.1         0   0       0           8   \n",
              "231            1313     1          1.8         1   4       0           9   \n",
              "60             1484     0          3.0         0   3       0          12   \n",
              "1608           1129     1          0.8         1   9       1          21   \n",
              "1977           1379     0          1.1         1   1       1          18   \n",
              "\n",
              "      m_dep  mobile_wt  n_cores  pc  px_height  px_width   ram  sc_h  sc_w  \\\n",
              "439     0.7        123        7   0        398      1133  1052     8     1   \n",
              "231     0.4        105        1   6        416      1308  3791    11    10   \n",
              "60      0.6        134        3   5        916       969  1457    14     4   \n",
              "1608    0.6        116        2  10       1128      1702  1400    11     0   \n",
              "1977    0.2        129        2  16        838       885  2358    10     5   \n",
              "\n",
              "      talk_time  three_g  touch_screen  wifi  \n",
              "439           3        0             1     0  \n",
              "231           6        0             1     1  \n",
              "60           20        1             1     0  \n",
              "1608         13        1             1     0  \n",
              "1977         15        1             1     0  "
            ],
            "text/html": [
              "\n",
              "  <div id=\"df-b5e9eef3-d56b-4cdf-a537-c11bbe8748ee\">\n",
              "    <div class=\"colab-df-container\">\n",
              "      <div>\n",
              "<style scoped>\n",
              "    .dataframe tbody tr th:only-of-type {\n",
              "        vertical-align: middle;\n",
              "    }\n",
              "\n",
              "    .dataframe tbody tr th {\n",
              "        vertical-align: top;\n",
              "    }\n",
              "\n",
              "    .dataframe thead th {\n",
              "        text-align: right;\n",
              "    }\n",
              "</style>\n",
              "<table border=\"1\" class=\"dataframe\">\n",
              "  <thead>\n",
              "    <tr style=\"text-align: right;\">\n",
              "      <th></th>\n",
              "      <th>battery_power</th>\n",
              "      <th>blue</th>\n",
              "      <th>clock_speed</th>\n",
              "      <th>dual_sim</th>\n",
              "      <th>fc</th>\n",
              "      <th>four_g</th>\n",
              "      <th>int_memory</th>\n",
              "      <th>m_dep</th>\n",
              "      <th>mobile_wt</th>\n",
              "      <th>n_cores</th>\n",
              "      <th>pc</th>\n",
              "      <th>px_height</th>\n",
              "      <th>px_width</th>\n",
              "      <th>ram</th>\n",
              "      <th>sc_h</th>\n",
              "      <th>sc_w</th>\n",
              "      <th>talk_time</th>\n",
              "      <th>three_g</th>\n",
              "      <th>touch_screen</th>\n",
              "      <th>wifi</th>\n",
              "    </tr>\n",
              "  </thead>\n",
              "  <tbody>\n",
              "    <tr>\n",
              "      <th>439</th>\n",
              "      <td>1469</td>\n",
              "      <td>0</td>\n",
              "      <td>2.1</td>\n",
              "      <td>0</td>\n",
              "      <td>0</td>\n",
              "      <td>0</td>\n",
              "      <td>8</td>\n",
              "      <td>0.7</td>\n",
              "      <td>123</td>\n",
              "      <td>7</td>\n",
              "      <td>0</td>\n",
              "      <td>398</td>\n",
              "      <td>1133</td>\n",
              "      <td>1052</td>\n",
              "      <td>8</td>\n",
              "      <td>1</td>\n",
              "      <td>3</td>\n",
              "      <td>0</td>\n",
              "      <td>1</td>\n",
              "      <td>0</td>\n",
              "    </tr>\n",
              "    <tr>\n",
              "      <th>231</th>\n",
              "      <td>1313</td>\n",
              "      <td>1</td>\n",
              "      <td>1.8</td>\n",
              "      <td>1</td>\n",
              "      <td>4</td>\n",
              "      <td>0</td>\n",
              "      <td>9</td>\n",
              "      <td>0.4</td>\n",
              "      <td>105</td>\n",
              "      <td>1</td>\n",
              "      <td>6</td>\n",
              "      <td>416</td>\n",
              "      <td>1308</td>\n",
              "      <td>3791</td>\n",
              "      <td>11</td>\n",
              "      <td>10</td>\n",
              "      <td>6</td>\n",
              "      <td>0</td>\n",
              "      <td>1</td>\n",
              "      <td>1</td>\n",
              "    </tr>\n",
              "    <tr>\n",
              "      <th>60</th>\n",
              "      <td>1484</td>\n",
              "      <td>0</td>\n",
              "      <td>3.0</td>\n",
              "      <td>0</td>\n",
              "      <td>3</td>\n",
              "      <td>0</td>\n",
              "      <td>12</td>\n",
              "      <td>0.6</td>\n",
              "      <td>134</td>\n",
              "      <td>3</td>\n",
              "      <td>5</td>\n",
              "      <td>916</td>\n",
              "      <td>969</td>\n",
              "      <td>1457</td>\n",
              "      <td>14</td>\n",
              "      <td>4</td>\n",
              "      <td>20</td>\n",
              "      <td>1</td>\n",
              "      <td>1</td>\n",
              "      <td>0</td>\n",
              "    </tr>\n",
              "    <tr>\n",
              "      <th>1608</th>\n",
              "      <td>1129</td>\n",
              "      <td>1</td>\n",
              "      <td>0.8</td>\n",
              "      <td>1</td>\n",
              "      <td>9</td>\n",
              "      <td>1</td>\n",
              "      <td>21</td>\n",
              "      <td>0.6</td>\n",
              "      <td>116</td>\n",
              "      <td>2</td>\n",
              "      <td>10</td>\n",
              "      <td>1128</td>\n",
              "      <td>1702</td>\n",
              "      <td>1400</td>\n",
              "      <td>11</td>\n",
              "      <td>0</td>\n",
              "      <td>13</td>\n",
              "      <td>1</td>\n",
              "      <td>1</td>\n",
              "      <td>0</td>\n",
              "    </tr>\n",
              "    <tr>\n",
              "      <th>1977</th>\n",
              "      <td>1379</td>\n",
              "      <td>0</td>\n",
              "      <td>1.1</td>\n",
              "      <td>1</td>\n",
              "      <td>1</td>\n",
              "      <td>1</td>\n",
              "      <td>18</td>\n",
              "      <td>0.2</td>\n",
              "      <td>129</td>\n",
              "      <td>2</td>\n",
              "      <td>16</td>\n",
              "      <td>838</td>\n",
              "      <td>885</td>\n",
              "      <td>2358</td>\n",
              "      <td>10</td>\n",
              "      <td>5</td>\n",
              "      <td>15</td>\n",
              "      <td>1</td>\n",
              "      <td>1</td>\n",
              "      <td>0</td>\n",
              "    </tr>\n",
              "  </tbody>\n",
              "</table>\n",
              "</div>\n",
              "      <button class=\"colab-df-convert\" onclick=\"convertToInteractive('df-b5e9eef3-d56b-4cdf-a537-c11bbe8748ee')\"\n",
              "              title=\"Convert this dataframe to an interactive table.\"\n",
              "              style=\"display:none;\">\n",
              "        \n",
              "  <svg xmlns=\"http://www.w3.org/2000/svg\" height=\"24px\"viewBox=\"0 0 24 24\"\n",
              "       width=\"24px\">\n",
              "    <path d=\"M0 0h24v24H0V0z\" fill=\"none\"/>\n",
              "    <path d=\"M18.56 5.44l.94 2.06.94-2.06 2.06-.94-2.06-.94-.94-2.06-.94 2.06-2.06.94zm-11 1L8.5 8.5l.94-2.06 2.06-.94-2.06-.94L8.5 2.5l-.94 2.06-2.06.94zm10 10l.94 2.06.94-2.06 2.06-.94-2.06-.94-.94-2.06-.94 2.06-2.06.94z\"/><path d=\"M17.41 7.96l-1.37-1.37c-.4-.4-.92-.59-1.43-.59-.52 0-1.04.2-1.43.59L10.3 9.45l-7.72 7.72c-.78.78-.78 2.05 0 2.83L4 21.41c.39.39.9.59 1.41.59.51 0 1.02-.2 1.41-.59l7.78-7.78 2.81-2.81c.8-.78.8-2.07 0-2.86zM5.41 20L4 18.59l7.72-7.72 1.47 1.35L5.41 20z\"/>\n",
              "  </svg>\n",
              "      </button>\n",
              "      \n",
              "  <style>\n",
              "    .colab-df-container {\n",
              "      display:flex;\n",
              "      flex-wrap:wrap;\n",
              "      gap: 12px;\n",
              "    }\n",
              "\n",
              "    .colab-df-convert {\n",
              "      background-color: #E8F0FE;\n",
              "      border: none;\n",
              "      border-radius: 50%;\n",
              "      cursor: pointer;\n",
              "      display: none;\n",
              "      fill: #1967D2;\n",
              "      height: 32px;\n",
              "      padding: 0 0 0 0;\n",
              "      width: 32px;\n",
              "    }\n",
              "\n",
              "    .colab-df-convert:hover {\n",
              "      background-color: #E2EBFA;\n",
              "      box-shadow: 0px 1px 2px rgba(60, 64, 67, 0.3), 0px 1px 3px 1px rgba(60, 64, 67, 0.15);\n",
              "      fill: #174EA6;\n",
              "    }\n",
              "\n",
              "    [theme=dark] .colab-df-convert {\n",
              "      background-color: #3B4455;\n",
              "      fill: #D2E3FC;\n",
              "    }\n",
              "\n",
              "    [theme=dark] .colab-df-convert:hover {\n",
              "      background-color: #434B5C;\n",
              "      box-shadow: 0px 1px 3px 1px rgba(0, 0, 0, 0.15);\n",
              "      filter: drop-shadow(0px 1px 2px rgba(0, 0, 0, 0.3));\n",
              "      fill: #FFFFFF;\n",
              "    }\n",
              "  </style>\n",
              "\n",
              "      <script>\n",
              "        const buttonEl =\n",
              "          document.querySelector('#df-b5e9eef3-d56b-4cdf-a537-c11bbe8748ee button.colab-df-convert');\n",
              "        buttonEl.style.display =\n",
              "          google.colab.kernel.accessAllowed ? 'block' : 'none';\n",
              "\n",
              "        async function convertToInteractive(key) {\n",
              "          const element = document.querySelector('#df-b5e9eef3-d56b-4cdf-a537-c11bbe8748ee');\n",
              "          const dataTable =\n",
              "            await google.colab.kernel.invokeFunction('convertToInteractive',\n",
              "                                                     [key], {});\n",
              "          if (!dataTable) return;\n",
              "\n",
              "          const docLinkHtml = 'Like what you see? Visit the ' +\n",
              "            '<a target=\"_blank\" href=https://colab.research.google.com/notebooks/data_table.ipynb>data table notebook</a>'\n",
              "            + ' to learn more about interactive tables.';\n",
              "          element.innerHTML = '';\n",
              "          dataTable['output_type'] = 'display_data';\n",
              "          await google.colab.output.renderOutput(dataTable, element);\n",
              "          const docLink = document.createElement('div');\n",
              "          docLink.innerHTML = docLinkHtml;\n",
              "          element.appendChild(docLink);\n",
              "        }\n",
              "      </script>\n",
              "    </div>\n",
              "  </div>\n",
              "  "
            ]
          },
          "metadata": {},
          "execution_count": 252
        }
      ]
    },
    {
      "cell_type": "code",
      "source": [
        "from sklearn.preprocessing import StandardScaler\n",
        "Sc=StandardScaler()\n",
        "x_train = Sc.fit_transform(x_train)\n",
        "x_test = Sc.transform(x_test)"
      ],
      "metadata": {
        "id": "IKBmWEte-gV7"
      },
      "execution_count": null,
      "outputs": []
    },
    {
      "cell_type": "code",
      "source": [
        "x_train"
      ],
      "metadata": {
        "colab": {
          "base_uri": "https://localhost:8080/"
        },
        "id": "_deZ0kvSCEWn",
        "outputId": "a1092602-fa7f-43a3-bfd9-9ae0c2300c90"
      },
      "execution_count": null,
      "outputs": [
        {
          "output_type": "execute_result",
          "data": {
            "text/plain": [
              "array([[ 0.51917041, -1.02020406,  0.72303195, ..., -1.79924655,\n",
              "         0.99070982, -1.02292948],\n",
              "       [ 0.1643656 ,  0.98019606,  0.3541381 , ..., -1.79924655,\n",
              "         0.99070982,  0.9775845 ],\n",
              "       [ 0.55328625, -1.02020406,  1.8297135 , ...,  0.5557882 ,\n",
              "         0.99070982, -1.02292948],\n",
              "       ...,\n",
              "       [ 1.61997506,  0.98019606,  0.72303195, ...,  0.5557882 ,\n",
              "        -1.0093773 , -1.02292948],\n",
              "       [-0.86593297,  0.98019606,  0.10820886, ...,  0.5557882 ,\n",
              "        -1.0093773 , -1.02292948],\n",
              "       [ 0.37588385, -1.02020406, -1.24440193, ...,  0.5557882 ,\n",
              "        -1.0093773 ,  0.9775845 ]])"
            ]
          },
          "metadata": {},
          "execution_count": 254
        }
      ]
    },
    {
      "cell_type": "code",
      "source": [
        "x_test"
      ],
      "metadata": {
        "colab": {
          "base_uri": "https://localhost:8080/"
        },
        "id": "VIT_zlhxCHo_",
        "outputId": "ab8e3c88-f4ed-4176-f0d3-002361da9a59"
      },
      "execution_count": null,
      "outputs": [
        {
          "output_type": "execute_result",
          "data": {
            "text/plain": [
              "array([[-1.1707012 , -1.02020406,  0.84599657, ...,  0.5557882 ,\n",
              "         0.99070982,  0.9775845 ],\n",
              "       [ 0.94675569,  0.98019606,  1.0919258 , ...,  0.5557882 ,\n",
              "        -1.0093773 , -1.02292948],\n",
              "       [ 0.60559722,  0.98019606, -0.75254346, ...,  0.5557882 ,\n",
              "        -1.0093773 , -1.02292948],\n",
              "       ...,\n",
              "       [ 0.79437157, -1.02020406, -0.01475575, ...,  0.5557882 ,\n",
              "        -1.0093773 , -1.02292948],\n",
              "       [-0.36101844, -1.02020406,  0.96896118, ..., -1.79924655,\n",
              "         0.99070982, -1.02292948],\n",
              "       [-0.63394521, -1.02020406, -0.62957884, ...,  0.5557882 ,\n",
              "        -1.0093773 , -1.02292948]])"
            ]
          },
          "metadata": {},
          "execution_count": 255
        }
      ]
    },
    {
      "cell_type": "markdown",
      "source": [
        "## 3.a)Logistic Regression"
      ],
      "metadata": {
        "id": "vvkkfssXXUtb"
      }
    },
    {
      "cell_type": "code",
      "source": [
        "#3. a)LOGISTIC REGRESSION\n",
        "from sklearn.linear_model import LogisticRegression\n",
        "m1=LogisticRegression()\n",
        "m1.fit(x_train,y_train)\n",
        "\n",
        "\n"
      ],
      "metadata": {
        "colab": {
          "base_uri": "https://localhost:8080/"
        },
        "id": "PbLdp5dxOhvt",
        "outputId": "c6be3fef-c45b-4a4f-d72e-324cb69cd6f2"
      },
      "execution_count": null,
      "outputs": [
        {
          "output_type": "execute_result",
          "data": {
            "text/plain": [
              "LogisticRegression()"
            ]
          },
          "metadata": {},
          "execution_count": 256
        }
      ]
    },
    {
      "cell_type": "code",
      "source": [
        "ypred=m1.predict(x_test)\n",
        "print(ypred)\n",
        "print('Training score',m1.score(x_train,y_train))\n",
        "print('Testing score',m1.score(x_test,y_test))"
      ],
      "metadata": {
        "colab": {
          "base_uri": "https://localhost:8080/"
        },
        "id": "08kAOR5IPMee",
        "outputId": "2372daea-e7b1-4e90-8475-c436cdad74b6"
      },
      "execution_count": null,
      "outputs": [
        {
          "output_type": "stream",
          "name": "stdout",
          "text": [
            "[0 3 1 2 1 0 0 1 2 3 3 0 3 1 2 2 3 3 2 0 1 1 0 0 1 2 3 1 0 2 0 2 2 1 1 2 0\n",
            " 2 0 1 0 0 1 0 3 1 1 0 1 3 2 2 3 0 3 1 1 1 0 3 3 1 2 3 3 1 2 1 0 3 1 3 1 2\n",
            " 3 1 2 3 2 3 1 0 2 0 2 3 0 0 0 2 3 1 1 2 2 1 2 0 2 1 0 0 3 2 0 1 0 3 0 0 2\n",
            " 1 3 0 3 3 3 1 0 3 0 3 3 0 1 0 2 1 2 0 0 1 3 3 3 0 2 0 0 0 2 0 3 3 3 0 1 1\n",
            " 3 0 1 0 2 1 3 2 3 2 3 3 1 0 2 3 0 2 1 3 3 1 0 0 0 2 3 1 1 0 3 3 3 2 1 3 0\n",
            " 3 1 3 2 3 0 1 0 1 3 1 0 2 3 2 0 3 3 1 0 0 1 2 0 2 1 0 2 0 2 1 0 1 2 0 1 3\n",
            " 0 2 0 3 0 2 3 3 0 0 1 0 2 2 3 2 2 0 0 0 3 2 2 0 1 2 3 2 3 2 2 1 1 1 2 3 3\n",
            " 1 3 3 2 0 0 3 1 1 2 0 2 3 3 2 2 3 1 1 1 3 2 3 1 2 3 0 2 1 1 0 3 3 2 1 1 1\n",
            " 1 0 0 1 2 0 3 3 3 0 3 0 3 1 2 3 3 3 1 2 3 2 2 2 2 0 3 2 1 0 1 0 1 0 3 3 2\n",
            " 1 0 2 1 2 2 0 1 3 2 1 2 2 3 1 0 3 1 1 1 3 1 3 1 2 2 3 0 2 0 2 3 2 2 1 3 0\n",
            " 2 2 3 3 0 0 3 1 1 0 2 1 0 2 3 2 2 3 3 0 0 2 2 3 1 3 2 0 2 2 1 1 1 2 1 0 3\n",
            " 0 2 2 3 1 2 2 1 3 3 3 0 3 3 3 0 2 3 2 0 1 0 2 2 0 1 2 2 0 0 1 0 3 0 0 0 0\n",
            " 2 2 3 0 0 3 1 2 0 1 3 2 2 3 3 1 1 0 1 0 1 2 0 3 1 3 2 1 3 1 2 3 2 1 1 2 1\n",
            " 3 2 2 0 2 1 2 1 3 1 1 1 1 2 2 3 2 1 1]\n",
            "Training score 0.976\n",
            "Testing score 0.964\n"
          ]
        }
      ]
    },
    {
      "cell_type": "markdown",
      "source": [
        "# 3. b)KNN Classification"
      ],
      "metadata": {
        "id": "59n8XjDNXxbb"
      }
    },
    {
      "cell_type": "code",
      "source": [
        "#3. b)KNN CLASSIFICATION\n",
        "from sklearn.neighbors import KNeighborsClassifier\n",
        "m2=KNeighborsClassifier(n_neighbors=20)\n",
        "m2.fit(x_train,y_train)\n"
      ],
      "metadata": {
        "colab": {
          "base_uri": "https://localhost:8080/"
        },
        "id": "WHedmrsLio4a",
        "outputId": "0b70243a-c3d0-4f9c-c7ef-df2f3aea6b4f"
      },
      "execution_count": null,
      "outputs": [
        {
          "output_type": "execute_result",
          "data": {
            "text/plain": [
              "KNeighborsClassifier(n_neighbors=20)"
            ]
          },
          "metadata": {},
          "execution_count": 258
        }
      ]
    },
    {
      "cell_type": "code",
      "source": [
        "ypred_m2 = m2.predict(x_test)\n",
        "print(ypred_m2)\n",
        "print('Training score',m2.score(x_train,y_train))\n",
        "print('Testing score',m2.score(x_test,y_test))"
      ],
      "metadata": {
        "colab": {
          "base_uri": "https://localhost:8080/"
        },
        "id": "Ia2TrONbkXSO",
        "outputId": "9a870bdd-e9fa-40cf-a03f-ef354d64ac1e"
      },
      "execution_count": null,
      "outputs": [
        {
          "output_type": "stream",
          "name": "stdout",
          "text": [
            "[0 3 0 2 2 0 0 1 2 3 1 1 3 1 2 0 2 1 1 0 0 1 0 0 0 2 3 0 0 1 0 2 2 2 2 2 0\n",
            " 2 2 1 0 0 1 0 2 1 2 0 0 3 2 2 3 2 3 0 2 1 0 3 2 1 2 3 3 1 1 0 0 1 2 3 1 1\n",
            " 2 0 1 2 2 1 1 0 3 0 3 3 0 1 0 1 3 2 1 2 2 0 1 0 3 3 0 1 3 1 0 2 0 2 1 0 2\n",
            " 0 2 1 2 3 2 2 0 3 1 3 2 0 1 0 3 0 2 1 0 1 2 2 3 1 3 0 1 0 2 1 3 3 3 0 1 1\n",
            " 3 0 1 1 2 2 2 2 3 1 2 2 0 0 0 3 1 3 2 3 2 1 0 0 0 2 3 0 0 1 2 3 3 2 2 3 1\n",
            " 3 0 2 2 2 1 1 1 0 3 2 0 2 2 0 1 3 3 0 0 1 0 2 0 3 0 1 2 1 2 1 0 1 1 0 1 3\n",
            " 0 1 0 3 0 1 1 3 0 0 0 0 2 2 3 1 2 0 0 0 3 2 1 0 0 1 3 3 3 1 2 1 2 1 3 3 3\n",
            " 3 1 2 1 0 0 2 1 1 2 1 2 3 2 2 3 2 1 1 1 2 2 3 3 2 2 0 0 1 1 0 3 3 3 1 1 1\n",
            " 1 0 0 0 2 0 3 3 3 0 3 1 2 0 2 3 1 2 1 3 2 2 1 3 2 1 3 2 0 1 1 0 2 0 3 2 0\n",
            " 3 1 1 1 1 1 0 1 2 2 1 3 2 3 1 0 3 1 1 1 3 0 3 1 0 1 2 0 3 1 2 2 2 3 0 3 0\n",
            " 2 1 2 3 0 0 3 1 2 0 2 0 0 1 2 2 0 3 2 0 0 1 2 3 0 3 2 0 3 1 1 1 0 2 0 0 3\n",
            " 0 2 2 3 2 2 2 0 3 2 3 0 3 3 3 0 1 2 1 0 1 0 1 2 0 1 3 2 0 0 1 2 2 0 0 0 0\n",
            " 2 2 3 0 0 3 2 1 0 1 2 2 3 3 1 0 0 0 0 1 1 2 1 3 0 2 1 0 2 1 3 3 2 1 1 0 1\n",
            " 2 3 3 0 2 1 0 2 2 3 1 1 2 1 2 3 2 1 1]\n",
            "Training score 0.6953333333333334\n",
            "Testing score 0.558\n"
          ]
        }
      ]
    },
    {
      "cell_type": "markdown",
      "source": [
        "# 3. c)Decision Tree"
      ],
      "metadata": {
        "id": "FXAdN5h_X-mB"
      }
    },
    {
      "cell_type": "code",
      "source": [
        "#3.c)DECISION TREE\n",
        "from sklearn.tree import DecisionTreeClassifier\n",
        "m3=DecisionTreeClassifier(criterion='gini',max_depth=40,min_samples_split=10)\n",
        "m3.fit(x_train,y_train)"
      ],
      "metadata": {
        "colab": {
          "base_uri": "https://localhost:8080/"
        },
        "id": "vtOZaKL-xfhR",
        "outputId": "4853ed21-54aa-411b-88e5-7b46adb372bb"
      },
      "execution_count": null,
      "outputs": [
        {
          "output_type": "execute_result",
          "data": {
            "text/plain": [
              "DecisionTreeClassifier(max_depth=40, min_samples_split=10)"
            ]
          },
          "metadata": {},
          "execution_count": 260
        }
      ]
    },
    {
      "cell_type": "code",
      "source": [
        "ypred_m3 = m3.predict(x_test)\n",
        "print(ypred_m3)\n",
        "print('Training score',m3.score(x_train,y_train))\n",
        "print('Testing score',m3.score(x_test,y_test))"
      ],
      "metadata": {
        "colab": {
          "base_uri": "https://localhost:8080/"
        },
        "id": "acAelXtPwMwN",
        "outputId": "7394ded4-1e36-4928-bb14-073e5d346088"
      },
      "execution_count": null,
      "outputs": [
        {
          "output_type": "stream",
          "name": "stdout",
          "text": [
            "[0 3 1 3 1 0 0 2 2 2 3 0 3 1 2 2 3 3 2 0 1 1 1 0 1 2 3 1 0 1 0 3 2 1 1 2 0\n",
            " 2 0 2 0 0 1 0 3 1 1 0 1 3 2 2 3 0 3 0 1 2 0 3 3 2 1 3 2 2 2 1 0 3 2 3 1 2\n",
            " 3 1 2 2 2 3 2 0 2 0 2 3 0 0 0 2 3 1 1 2 2 0 2 0 1 1 0 0 3 2 0 1 0 2 0 0 2\n",
            " 1 3 0 3 3 3 1 0 3 0 3 3 0 1 0 1 1 2 0 0 1 3 2 3 0 2 0 1 0 3 1 3 3 3 0 1 1\n",
            " 3 0 0 0 2 1 3 2 3 2 3 3 1 0 2 3 0 2 1 3 3 1 0 0 0 2 3 1 1 0 3 3 3 2 2 3 1\n",
            " 3 1 3 2 3 0 2 0 1 3 1 0 3 3 2 0 3 3 1 0 0 1 3 0 2 1 0 2 0 2 1 0 1 2 0 0 3\n",
            " 0 2 0 3 1 2 3 3 0 1 1 0 3 2 3 2 2 0 0 0 3 2 2 1 1 2 3 2 3 2 2 1 1 1 3 3 3\n",
            " 1 3 3 2 0 1 3 1 1 2 0 2 3 3 2 3 3 0 1 1 3 1 3 1 2 2 0 2 1 0 0 3 3 2 2 1 1\n",
            " 0 0 0 1 2 0 3 3 3 0 3 0 3 1 2 3 3 3 0 2 3 2 2 3 2 0 3 2 1 0 0 0 1 0 3 3 2\n",
            " 1 1 2 2 2 1 0 1 3 2 0 2 2 2 1 0 3 1 1 1 3 1 3 1 2 2 3 0 2 0 2 2 2 1 1 3 0\n",
            " 2 2 3 3 0 1 3 0 1 0 2 1 0 2 3 2 2 3 2 0 0 2 2 3 1 3 3 0 2 2 1 2 1 2 1 0 3\n",
            " 0 3 3 3 1 2 2 1 3 3 3 0 3 3 3 0 2 3 2 0 2 0 2 2 0 1 2 2 0 0 0 1 3 0 0 0 0\n",
            " 2 2 3 0 0 2 0 2 0 1 3 2 2 3 3 1 1 0 1 0 1 2 0 3 1 3 2 1 3 1 2 3 2 1 0 2 1\n",
            " 3 2 2 0 2 1 2 1 2 1 2 2 1 2 2 3 2 1 1]\n",
            "Training score 0.9626666666666667\n",
            "Testing score 0.846\n"
          ]
        }
      ]
    },
    {
      "cell_type": "markdown",
      "source": [
        "# 3. d) Random Forest Classification"
      ],
      "metadata": {
        "id": "yGX1Ik5-YJVa"
      }
    },
    {
      "cell_type": "code",
      "source": [
        "#3.d)RANDOM FOREST CLASSIFICATION\n",
        "#n_estimators =>number of desicions trees participating in random forest\n",
        "from sklearn.ensemble import RandomForestClassifier\n",
        "m4= RandomForestClassifier(n_estimators= 100, criterion='entropy',max_depth=30,min_samples_split=20)\n",
        "m4.fit(x_train, y_train)"
      ],
      "metadata": {
        "colab": {
          "base_uri": "https://localhost:8080/"
        },
        "id": "9t8qCvVDzFFD",
        "outputId": "cbf9eff0-cdc5-41ed-968f-47ea354b371e"
      },
      "execution_count": null,
      "outputs": [
        {
          "output_type": "execute_result",
          "data": {
            "text/plain": [
              "RandomForestClassifier(criterion='entropy', max_depth=30, min_samples_split=20)"
            ]
          },
          "metadata": {},
          "execution_count": 262
        }
      ]
    },
    {
      "cell_type": "code",
      "source": [
        "ypred_m4 = m4.predict(x_test)\n",
        "print(ypred_m4)\n",
        "print('Training score',m4.score(x_train,y_train))\n",
        "print('Testing score',m4.score(x_test,y_test))"
      ],
      "metadata": {
        "colab": {
          "base_uri": "https://localhost:8080/"
        },
        "id": "XVOiniYLz6cJ",
        "outputId": "c8da3836-3fb9-4d39-eae8-3c828c12cd53"
      },
      "execution_count": null,
      "outputs": [
        {
          "output_type": "stream",
          "name": "stdout",
          "text": [
            "[0 3 1 3 1 0 0 2 2 3 2 0 3 1 2 2 3 3 2 0 1 1 1 0 0 2 3 2 0 1 0 3 1 1 1 2 0\n",
            " 2 0 1 0 0 1 0 3 1 1 0 1 3 2 2 3 0 3 1 1 1 0 3 3 2 1 3 2 2 2 1 0 3 2 3 1 2\n",
            " 3 1 2 2 2 3 1 0 2 0 2 3 0 0 0 2 3 1 0 2 2 0 2 0 2 0 0 0 3 1 0 1 0 2 0 0 2\n",
            " 1 3 0 2 3 3 1 0 3 0 3 3 0 1 0 2 1 2 0 0 1 3 2 3 0 2 0 0 0 2 0 3 3 3 0 1 1\n",
            " 3 0 1 0 2 1 3 2 3 2 3 3 1 0 2 3 0 2 1 3 3 1 0 0 0 2 3 1 1 1 3 3 2 2 1 3 0\n",
            " 3 1 3 2 3 0 2 0 1 3 1 0 3 3 1 1 3 3 1 0 0 1 2 0 2 1 0 2 0 2 1 0 1 2 0 1 3\n",
            " 0 2 0 3 0 2 3 3 0 0 1 0 2 2 3 2 2 0 0 0 3 2 2 0 1 2 3 2 3 2 2 1 1 1 3 3 3\n",
            " 1 2 3 2 0 0 3 1 1 2 0 1 3 3 2 3 3 1 1 1 3 1 3 1 2 3 0 2 1 0 0 3 3 2 2 1 1\n",
            " 0 0 0 1 2 0 3 3 3 0 3 0 3 1 1 3 2 3 1 2 3 2 1 3 2 0 3 2 1 0 0 0 1 0 3 3 2\n",
            " 1 0 2 2 2 1 0 1 3 2 1 2 2 2 2 0 3 1 1 1 3 1 3 1 2 1 3 0 2 0 2 3 2 1 1 3 0\n",
            " 2 2 3 3 0 0 3 0 1 0 2 1 0 2 3 2 2 3 2 0 0 2 2 3 1 3 2 0 2 2 1 2 1 2 1 0 3\n",
            " 0 3 2 3 1 2 2 1 3 2 3 0 3 3 3 0 2 3 2 1 2 0 2 2 0 1 3 2 0 0 1 1 3 0 0 0 0\n",
            " 2 2 3 0 0 2 1 2 1 1 3 2 3 3 3 1 1 0 1 0 1 2 0 3 1 3 2 1 2 1 2 3 2 1 1 1 1\n",
            " 3 2 3 0 2 1 2 1 2 1 1 1 1 1 2 3 2 1 1]\n",
            "Training score 0.9773333333333334\n",
            "Testing score 0.848\n"
          ]
        }
      ]
    },
    {
      "cell_type": "markdown",
      "source": [
        "# 3. e) SVM Classifier with linear kernel"
      ],
      "metadata": {
        "id": "Ixe33tiJYRBr"
      }
    },
    {
      "cell_type": "code",
      "source": [
        "#3.e) SVM Classifier with linear kernel.\n",
        "from sklearn import svm\n",
        "from sklearn.svm import SVC\n",
        "m5=SVC(kernel='linear')\n",
        "m5.fit(x_train,y_train)"
      ],
      "metadata": {
        "colab": {
          "base_uri": "https://localhost:8080/"
        },
        "id": "34LvXj7UV3YK",
        "outputId": "742efa93-63cf-433f-85fa-08c5dcc11bbc"
      },
      "execution_count": null,
      "outputs": [
        {
          "output_type": "execute_result",
          "data": {
            "text/plain": [
              "SVC(kernel='linear')"
            ]
          },
          "metadata": {},
          "execution_count": 264
        }
      ]
    },
    {
      "cell_type": "code",
      "source": [
        "pred_m5=m5.predict(x_test)\n",
        "print(pred_m5)"
      ],
      "metadata": {
        "colab": {
          "base_uri": "https://localhost:8080/"
        },
        "id": "rSQl4kHHXTg7",
        "outputId": "f0a9b634-88c8-4dea-d38b-abe217b0d220"
      },
      "execution_count": null,
      "outputs": [
        {
          "output_type": "stream",
          "name": "stdout",
          "text": [
            "[0 3 1 2 1 0 0 1 2 3 3 0 3 1 2 2 3 3 2 0 1 0 0 0 1 2 3 1 0 1 0 2 2 1 1 2 0\n",
            " 2 0 1 0 0 1 0 3 1 1 0 1 3 2 2 3 0 3 1 1 1 0 3 3 1 2 3 3 1 2 1 0 3 1 3 1 2\n",
            " 3 1 2 3 2 3 1 0 2 0 2 3 0 0 0 2 3 1 1 2 2 1 2 0 2 1 0 0 3 2 0 1 0 3 0 0 2\n",
            " 1 3 0 3 3 3 1 0 3 0 3 3 0 1 0 2 1 2 0 0 1 3 3 3 0 2 0 0 0 2 0 3 3 3 0 1 1\n",
            " 3 0 1 0 2 1 3 2 3 2 3 3 1 0 2 3 0 2 1 3 2 1 0 0 0 2 3 1 1 0 3 3 3 2 1 3 0\n",
            " 3 1 3 2 3 0 1 0 1 3 1 0 3 3 2 0 3 3 1 0 0 1 2 0 2 1 0 2 0 2 1 0 1 2 0 1 3\n",
            " 0 2 0 3 0 2 3 3 0 0 1 0 2 2 3 2 2 0 0 0 3 2 2 0 1 2 3 2 3 2 2 1 1 1 2 3 3\n",
            " 1 3 3 2 0 0 3 1 1 2 0 2 3 3 2 2 3 1 1 1 3 2 3 1 2 3 0 2 1 1 0 3 3 2 1 1 1\n",
            " 1 0 0 1 2 0 3 3 3 0 3 0 3 1 2 3 2 3 1 2 3 2 2 2 2 0 3 2 1 0 1 0 1 0 3 3 2\n",
            " 1 0 2 1 2 2 0 1 3 2 1 2 2 3 1 0 3 1 1 1 3 1 3 2 2 2 3 0 2 0 2 3 2 2 1 3 0\n",
            " 2 2 3 3 0 0 3 1 1 0 1 1 0 2 3 2 2 3 3 0 0 2 2 3 1 3 2 0 2 2 1 1 1 2 1 0 3\n",
            " 0 2 2 3 1 2 2 1 3 3 3 0 3 3 3 0 2 3 2 0 1 0 2 2 0 1 2 2 0 0 1 0 3 0 0 0 0\n",
            " 2 2 3 0 0 3 2 2 0 1 3 2 2 3 3 1 1 0 1 0 1 2 0 3 1 3 2 1 3 1 2 3 2 1 1 2 1\n",
            " 3 2 2 0 2 1 2 1 3 1 1 1 1 2 2 3 3 1 1]\n"
          ]
        }
      ]
    },
    {
      "cell_type": "markdown",
      "source": [
        "## 4. Predict price range for test data"
      ],
      "metadata": {
        "id": "o5xv0Q4mYY2g"
      }
    },
    {
      "cell_type": "code",
      "source": [
        "# 4. pridict price range for test data.\n",
        "res = pd.DataFrame({'price_range':y_test,'price_range_pred':ypred})\n",
        "res.head()"
      ],
      "metadata": {
        "colab": {
          "base_uri": "https://localhost:8080/",
          "height": 206
        },
        "id": "jGEH04SiPhZ4",
        "outputId": "a0a9e96c-73a8-4bf5-da35-b85b88f5623f"
      },
      "execution_count": null,
      "outputs": [
        {
          "output_type": "execute_result",
          "data": {
            "text/plain": [
              "      price_range  price_range_pred\n",
              "1469            0                 0\n",
              "107             3                 3\n",
              "1324            1                 1\n",
              "1519            3                 2\n",
              "75              1                 1"
            ],
            "text/html": [
              "\n",
              "  <div id=\"df-bc8b0461-c04d-4520-b293-23fa431a6d4e\">\n",
              "    <div class=\"colab-df-container\">\n",
              "      <div>\n",
              "<style scoped>\n",
              "    .dataframe tbody tr th:only-of-type {\n",
              "        vertical-align: middle;\n",
              "    }\n",
              "\n",
              "    .dataframe tbody tr th {\n",
              "        vertical-align: top;\n",
              "    }\n",
              "\n",
              "    .dataframe thead th {\n",
              "        text-align: right;\n",
              "    }\n",
              "</style>\n",
              "<table border=\"1\" class=\"dataframe\">\n",
              "  <thead>\n",
              "    <tr style=\"text-align: right;\">\n",
              "      <th></th>\n",
              "      <th>price_range</th>\n",
              "      <th>price_range_pred</th>\n",
              "    </tr>\n",
              "  </thead>\n",
              "  <tbody>\n",
              "    <tr>\n",
              "      <th>1469</th>\n",
              "      <td>0</td>\n",
              "      <td>0</td>\n",
              "    </tr>\n",
              "    <tr>\n",
              "      <th>107</th>\n",
              "      <td>3</td>\n",
              "      <td>3</td>\n",
              "    </tr>\n",
              "    <tr>\n",
              "      <th>1324</th>\n",
              "      <td>1</td>\n",
              "      <td>1</td>\n",
              "    </tr>\n",
              "    <tr>\n",
              "      <th>1519</th>\n",
              "      <td>3</td>\n",
              "      <td>2</td>\n",
              "    </tr>\n",
              "    <tr>\n",
              "      <th>75</th>\n",
              "      <td>1</td>\n",
              "      <td>1</td>\n",
              "    </tr>\n",
              "  </tbody>\n",
              "</table>\n",
              "</div>\n",
              "      <button class=\"colab-df-convert\" onclick=\"convertToInteractive('df-bc8b0461-c04d-4520-b293-23fa431a6d4e')\"\n",
              "              title=\"Convert this dataframe to an interactive table.\"\n",
              "              style=\"display:none;\">\n",
              "        \n",
              "  <svg xmlns=\"http://www.w3.org/2000/svg\" height=\"24px\"viewBox=\"0 0 24 24\"\n",
              "       width=\"24px\">\n",
              "    <path d=\"M0 0h24v24H0V0z\" fill=\"none\"/>\n",
              "    <path d=\"M18.56 5.44l.94 2.06.94-2.06 2.06-.94-2.06-.94-.94-2.06-.94 2.06-2.06.94zm-11 1L8.5 8.5l.94-2.06 2.06-.94-2.06-.94L8.5 2.5l-.94 2.06-2.06.94zm10 10l.94 2.06.94-2.06 2.06-.94-2.06-.94-.94-2.06-.94 2.06-2.06.94z\"/><path d=\"M17.41 7.96l-1.37-1.37c-.4-.4-.92-.59-1.43-.59-.52 0-1.04.2-1.43.59L10.3 9.45l-7.72 7.72c-.78.78-.78 2.05 0 2.83L4 21.41c.39.39.9.59 1.41.59.51 0 1.02-.2 1.41-.59l7.78-7.78 2.81-2.81c.8-.78.8-2.07 0-2.86zM5.41 20L4 18.59l7.72-7.72 1.47 1.35L5.41 20z\"/>\n",
              "  </svg>\n",
              "      </button>\n",
              "      \n",
              "  <style>\n",
              "    .colab-df-container {\n",
              "      display:flex;\n",
              "      flex-wrap:wrap;\n",
              "      gap: 12px;\n",
              "    }\n",
              "\n",
              "    .colab-df-convert {\n",
              "      background-color: #E8F0FE;\n",
              "      border: none;\n",
              "      border-radius: 50%;\n",
              "      cursor: pointer;\n",
              "      display: none;\n",
              "      fill: #1967D2;\n",
              "      height: 32px;\n",
              "      padding: 0 0 0 0;\n",
              "      width: 32px;\n",
              "    }\n",
              "\n",
              "    .colab-df-convert:hover {\n",
              "      background-color: #E2EBFA;\n",
              "      box-shadow: 0px 1px 2px rgba(60, 64, 67, 0.3), 0px 1px 3px 1px rgba(60, 64, 67, 0.15);\n",
              "      fill: #174EA6;\n",
              "    }\n",
              "\n",
              "    [theme=dark] .colab-df-convert {\n",
              "      background-color: #3B4455;\n",
              "      fill: #D2E3FC;\n",
              "    }\n",
              "\n",
              "    [theme=dark] .colab-df-convert:hover {\n",
              "      background-color: #434B5C;\n",
              "      box-shadow: 0px 1px 3px 1px rgba(0, 0, 0, 0.15);\n",
              "      filter: drop-shadow(0px 1px 2px rgba(0, 0, 0, 0.3));\n",
              "      fill: #FFFFFF;\n",
              "    }\n",
              "  </style>\n",
              "\n",
              "      <script>\n",
              "        const buttonEl =\n",
              "          document.querySelector('#df-bc8b0461-c04d-4520-b293-23fa431a6d4e button.colab-df-convert');\n",
              "        buttonEl.style.display =\n",
              "          google.colab.kernel.accessAllowed ? 'block' : 'none';\n",
              "\n",
              "        async function convertToInteractive(key) {\n",
              "          const element = document.querySelector('#df-bc8b0461-c04d-4520-b293-23fa431a6d4e');\n",
              "          const dataTable =\n",
              "            await google.colab.kernel.invokeFunction('convertToInteractive',\n",
              "                                                     [key], {});\n",
              "          if (!dataTable) return;\n",
              "\n",
              "          const docLinkHtml = 'Like what you see? Visit the ' +\n",
              "            '<a target=\"_blank\" href=https://colab.research.google.com/notebooks/data_table.ipynb>data table notebook</a>'\n",
              "            + ' to learn more about interactive tables.';\n",
              "          element.innerHTML = '';\n",
              "          dataTable['output_type'] = 'display_data';\n",
              "          await google.colab.output.renderOutput(dataTable, element);\n",
              "          const docLink = document.createElement('div');\n",
              "          docLink.innerHTML = docLinkHtml;\n",
              "          element.appendChild(docLink);\n",
              "        }\n",
              "      </script>\n",
              "    </div>\n",
              "  </div>\n",
              "  "
            ]
          },
          "metadata": {},
          "execution_count": 266
        }
      ]
    },
    {
      "cell_type": "code",
      "source": [
        "# 4. pridict price range for test data.\n",
        "res=pd.DataFrame({'price_range':y_test,'price_range_pred':ypred})\n",
        "res\n"
      ],
      "metadata": {
        "colab": {
          "base_uri": "https://localhost:8080/",
          "height": 424
        },
        "id": "zIP5SySLP2ET",
        "outputId": "00fa063b-6d4e-4574-edd0-20eef7efb7c7"
      },
      "execution_count": null,
      "outputs": [
        {
          "output_type": "execute_result",
          "data": {
            "text/plain": [
              "      price_range  price_range_pred\n",
              "1469            0                 0\n",
              "107             3                 3\n",
              "1324            1                 1\n",
              "1519            3                 2\n",
              "75              1                 1\n",
              "...           ...               ...\n",
              "190             1                 2\n",
              "57              3                 3\n",
              "1176            3                 2\n",
              "1886            1                 1\n",
              "1668            1                 1\n",
              "\n",
              "[500 rows x 2 columns]"
            ],
            "text/html": [
              "\n",
              "  <div id=\"df-9ccbe335-fd0f-4f60-9844-3a0388675ec4\">\n",
              "    <div class=\"colab-df-container\">\n",
              "      <div>\n",
              "<style scoped>\n",
              "    .dataframe tbody tr th:only-of-type {\n",
              "        vertical-align: middle;\n",
              "    }\n",
              "\n",
              "    .dataframe tbody tr th {\n",
              "        vertical-align: top;\n",
              "    }\n",
              "\n",
              "    .dataframe thead th {\n",
              "        text-align: right;\n",
              "    }\n",
              "</style>\n",
              "<table border=\"1\" class=\"dataframe\">\n",
              "  <thead>\n",
              "    <tr style=\"text-align: right;\">\n",
              "      <th></th>\n",
              "      <th>price_range</th>\n",
              "      <th>price_range_pred</th>\n",
              "    </tr>\n",
              "  </thead>\n",
              "  <tbody>\n",
              "    <tr>\n",
              "      <th>1469</th>\n",
              "      <td>0</td>\n",
              "      <td>0</td>\n",
              "    </tr>\n",
              "    <tr>\n",
              "      <th>107</th>\n",
              "      <td>3</td>\n",
              "      <td>3</td>\n",
              "    </tr>\n",
              "    <tr>\n",
              "      <th>1324</th>\n",
              "      <td>1</td>\n",
              "      <td>1</td>\n",
              "    </tr>\n",
              "    <tr>\n",
              "      <th>1519</th>\n",
              "      <td>3</td>\n",
              "      <td>2</td>\n",
              "    </tr>\n",
              "    <tr>\n",
              "      <th>75</th>\n",
              "      <td>1</td>\n",
              "      <td>1</td>\n",
              "    </tr>\n",
              "    <tr>\n",
              "      <th>...</th>\n",
              "      <td>...</td>\n",
              "      <td>...</td>\n",
              "    </tr>\n",
              "    <tr>\n",
              "      <th>190</th>\n",
              "      <td>1</td>\n",
              "      <td>2</td>\n",
              "    </tr>\n",
              "    <tr>\n",
              "      <th>57</th>\n",
              "      <td>3</td>\n",
              "      <td>3</td>\n",
              "    </tr>\n",
              "    <tr>\n",
              "      <th>1176</th>\n",
              "      <td>3</td>\n",
              "      <td>2</td>\n",
              "    </tr>\n",
              "    <tr>\n",
              "      <th>1886</th>\n",
              "      <td>1</td>\n",
              "      <td>1</td>\n",
              "    </tr>\n",
              "    <tr>\n",
              "      <th>1668</th>\n",
              "      <td>1</td>\n",
              "      <td>1</td>\n",
              "    </tr>\n",
              "  </tbody>\n",
              "</table>\n",
              "<p>500 rows × 2 columns</p>\n",
              "</div>\n",
              "      <button class=\"colab-df-convert\" onclick=\"convertToInteractive('df-9ccbe335-fd0f-4f60-9844-3a0388675ec4')\"\n",
              "              title=\"Convert this dataframe to an interactive table.\"\n",
              "              style=\"display:none;\">\n",
              "        \n",
              "  <svg xmlns=\"http://www.w3.org/2000/svg\" height=\"24px\"viewBox=\"0 0 24 24\"\n",
              "       width=\"24px\">\n",
              "    <path d=\"M0 0h24v24H0V0z\" fill=\"none\"/>\n",
              "    <path d=\"M18.56 5.44l.94 2.06.94-2.06 2.06-.94-2.06-.94-.94-2.06-.94 2.06-2.06.94zm-11 1L8.5 8.5l.94-2.06 2.06-.94-2.06-.94L8.5 2.5l-.94 2.06-2.06.94zm10 10l.94 2.06.94-2.06 2.06-.94-2.06-.94-.94-2.06-.94 2.06-2.06.94z\"/><path d=\"M17.41 7.96l-1.37-1.37c-.4-.4-.92-.59-1.43-.59-.52 0-1.04.2-1.43.59L10.3 9.45l-7.72 7.72c-.78.78-.78 2.05 0 2.83L4 21.41c.39.39.9.59 1.41.59.51 0 1.02-.2 1.41-.59l7.78-7.78 2.81-2.81c.8-.78.8-2.07 0-2.86zM5.41 20L4 18.59l7.72-7.72 1.47 1.35L5.41 20z\"/>\n",
              "  </svg>\n",
              "      </button>\n",
              "      \n",
              "  <style>\n",
              "    .colab-df-container {\n",
              "      display:flex;\n",
              "      flex-wrap:wrap;\n",
              "      gap: 12px;\n",
              "    }\n",
              "\n",
              "    .colab-df-convert {\n",
              "      background-color: #E8F0FE;\n",
              "      border: none;\n",
              "      border-radius: 50%;\n",
              "      cursor: pointer;\n",
              "      display: none;\n",
              "      fill: #1967D2;\n",
              "      height: 32px;\n",
              "      padding: 0 0 0 0;\n",
              "      width: 32px;\n",
              "    }\n",
              "\n",
              "    .colab-df-convert:hover {\n",
              "      background-color: #E2EBFA;\n",
              "      box-shadow: 0px 1px 2px rgba(60, 64, 67, 0.3), 0px 1px 3px 1px rgba(60, 64, 67, 0.15);\n",
              "      fill: #174EA6;\n",
              "    }\n",
              "\n",
              "    [theme=dark] .colab-df-convert {\n",
              "      background-color: #3B4455;\n",
              "      fill: #D2E3FC;\n",
              "    }\n",
              "\n",
              "    [theme=dark] .colab-df-convert:hover {\n",
              "      background-color: #434B5C;\n",
              "      box-shadow: 0px 1px 3px 1px rgba(0, 0, 0, 0.15);\n",
              "      filter: drop-shadow(0px 1px 2px rgba(0, 0, 0, 0.3));\n",
              "      fill: #FFFFFF;\n",
              "    }\n",
              "  </style>\n",
              "\n",
              "      <script>\n",
              "        const buttonEl =\n",
              "          document.querySelector('#df-9ccbe335-fd0f-4f60-9844-3a0388675ec4 button.colab-df-convert');\n",
              "        buttonEl.style.display =\n",
              "          google.colab.kernel.accessAllowed ? 'block' : 'none';\n",
              "\n",
              "        async function convertToInteractive(key) {\n",
              "          const element = document.querySelector('#df-9ccbe335-fd0f-4f60-9844-3a0388675ec4');\n",
              "          const dataTable =\n",
              "            await google.colab.kernel.invokeFunction('convertToInteractive',\n",
              "                                                     [key], {});\n",
              "          if (!dataTable) return;\n",
              "\n",
              "          const docLinkHtml = 'Like what you see? Visit the ' +\n",
              "            '<a target=\"_blank\" href=https://colab.research.google.com/notebooks/data_table.ipynb>data table notebook</a>'\n",
              "            + ' to learn more about interactive tables.';\n",
              "          element.innerHTML = '';\n",
              "          dataTable['output_type'] = 'display_data';\n",
              "          await google.colab.output.renderOutput(dataTable, element);\n",
              "          const docLink = document.createElement('div');\n",
              "          docLink.innerHTML = docLinkHtml;\n",
              "          element.appendChild(docLink);\n",
              "        }\n",
              "      </script>\n",
              "    </div>\n",
              "  </div>\n",
              "  "
            ]
          },
          "metadata": {},
          "execution_count": 267
        }
      ]
    },
    {
      "cell_type": "markdown",
      "source": [
        "## 5.Compute Confusion matrix and Classification report ."
      ],
      "metadata": {
        "id": "hiEeLgZIYias"
      }
    },
    {
      "cell_type": "markdown",
      "source": [
        "##  Logistic Regression"
      ],
      "metadata": {
        "id": "ke-0dmuSYyjD"
      }
    },
    {
      "cell_type": "code",
      "source": [
        "from sklearn.metrics import confusion_matrix,classification_report\n",
        "cm_m1 = confusion_matrix(y_test,ypred)\n",
        "print(cm_m1)\n",
        "print(classification_report(y_test,ypred))"
      ],
      "metadata": {
        "colab": {
          "base_uri": "https://localhost:8080/"
        },
        "id": "7qunwQVkFJPK",
        "outputId": "fbcfa2b5-5e54-43d0-87b7-6d11b1f10a87"
      },
      "execution_count": null,
      "outputs": [
        {
          "output_type": "stream",
          "name": "stdout",
          "text": [
            "[[118   3   0   0]\n",
            " [  3 115   3   0]\n",
            " [  0   5 121   0]\n",
            " [  0   0   4 128]]\n",
            "              precision    recall  f1-score   support\n",
            "\n",
            "           0       0.98      0.98      0.98       121\n",
            "           1       0.93      0.95      0.94       121\n",
            "           2       0.95      0.96      0.95       126\n",
            "           3       1.00      0.97      0.98       132\n",
            "\n",
            "    accuracy                           0.96       500\n",
            "   macro avg       0.96      0.96      0.96       500\n",
            "weighted avg       0.96      0.96      0.96       500\n",
            "\n"
          ]
        }
      ]
    },
    {
      "cell_type": "markdown",
      "source": [
        "##  KNN Classification"
      ],
      "metadata": {
        "id": "mZlovvy7ZAve"
      }
    },
    {
      "cell_type": "code",
      "source": [
        "from sklearn.metrics import confusion_matrix,classification_report\n",
        "cm_m2 = confusion_matrix(y_test,ypred_m2)\n",
        "print(cm_m2)\n",
        "print(classification_report(y_test,ypred_m2))"
      ],
      "metadata": {
        "colab": {
          "base_uri": "https://localhost:8080/"
        },
        "id": "Ot9YgYX2LG_n",
        "outputId": "cfddd123-1a0f-4651-9348-b2acb0218da0"
      },
      "execution_count": null,
      "outputs": [
        {
          "output_type": "stream",
          "name": "stdout",
          "text": [
            "[[88 30  3  0]\n",
            " [38 56 22  5]\n",
            " [ 9 36 59 22]\n",
            " [ 0  8 48 76]]\n",
            "              precision    recall  f1-score   support\n",
            "\n",
            "           0       0.65      0.73      0.69       121\n",
            "           1       0.43      0.46      0.45       121\n",
            "           2       0.45      0.47      0.46       126\n",
            "           3       0.74      0.58      0.65       132\n",
            "\n",
            "    accuracy                           0.56       500\n",
            "   macro avg       0.57      0.56      0.56       500\n",
            "weighted avg       0.57      0.56      0.56       500\n",
            "\n"
          ]
        }
      ]
    },
    {
      "cell_type": "markdown",
      "source": [
        "## Decision Tree Classification"
      ],
      "metadata": {
        "id": "DpkWiip5ZIJc"
      }
    },
    {
      "cell_type": "code",
      "source": [
        "from sklearn.metrics import confusion_matrix,classification_report\n",
        "cm_m3 = confusion_matrix(y_test,ypred_m3)\n",
        "print(cm_m3)\n",
        "print(classification_report(y_test,ypred_m3))"
      ],
      "metadata": {
        "colab": {
          "base_uri": "https://localhost:8080/"
        },
        "id": "IPcZp9tjSZYr",
        "outputId": "3c250e37-8ec6-4705-9859-149e31777e49"
      },
      "execution_count": null,
      "outputs": [
        {
          "output_type": "stream",
          "name": "stdout",
          "text": [
            "[[108  13   0   0]\n",
            " [ 15  90  16   0]\n",
            " [  1   9 106  10]\n",
            " [  0   0  13 119]]\n",
            "              precision    recall  f1-score   support\n",
            "\n",
            "           0       0.87      0.89      0.88       121\n",
            "           1       0.80      0.74      0.77       121\n",
            "           2       0.79      0.84      0.81       126\n",
            "           3       0.92      0.90      0.91       132\n",
            "\n",
            "    accuracy                           0.85       500\n",
            "   macro avg       0.85      0.84      0.84       500\n",
            "weighted avg       0.85      0.85      0.85       500\n",
            "\n"
          ]
        }
      ]
    },
    {
      "cell_type": "markdown",
      "source": [
        "# Random Forest Classification"
      ],
      "metadata": {
        "id": "_HlEnueJZpZc"
      }
    },
    {
      "cell_type": "code",
      "source": [
        "from sklearn.metrics import confusion_matrix,classification_report\n",
        "cm_m4 = confusion_matrix(y_test,ypred_m4)\n",
        "print(cm_m4)\n",
        "print(classification_report(y_test,ypred_m4))"
      ],
      "metadata": {
        "colab": {
          "base_uri": "https://localhost:8080/"
        },
        "id": "Zz9JFdBDSoZS",
        "outputId": "2c9b7b0d-4e26-4ac8-934b-844b40cac26b"
      },
      "execution_count": null,
      "outputs": [
        {
          "output_type": "stream",
          "name": "stdout",
          "text": [
            "[[114   7   0   0]\n",
            " [  9  98  14   0]\n",
            " [  0  19  98   9]\n",
            " [  0   0  18 114]]\n",
            "              precision    recall  f1-score   support\n",
            "\n",
            "           0       0.93      0.94      0.93       121\n",
            "           1       0.79      0.81      0.80       121\n",
            "           2       0.75      0.78      0.77       126\n",
            "           3       0.93      0.86      0.89       132\n",
            "\n",
            "    accuracy                           0.85       500\n",
            "   macro avg       0.85      0.85      0.85       500\n",
            "weighted avg       0.85      0.85      0.85       500\n",
            "\n"
          ]
        }
      ]
    },
    {
      "cell_type": "markdown",
      "source": [
        "## SVM Classifier"
      ],
      "metadata": {
        "id": "vhc8Bat8ZwjC"
      }
    },
    {
      "cell_type": "code",
      "source": [
        "from sklearn.metrics import confusion_matrix,classification_report\n",
        "cm_m5 = confusion_matrix(y_test,y_pred)\n",
        "print(cm_m5)\n",
        "print(classification_report(y_test,y_pred))"
      ],
      "metadata": {
        "colab": {
          "base_uri": "https://localhost:8080/"
        },
        "id": "WS1DUA0US9WD",
        "outputId": "d01d7ebe-bf04-453e-e82d-7e987943062c"
      },
      "execution_count": null,
      "outputs": [
        {
          "output_type": "stream",
          "name": "stdout",
          "text": [
            "[[25 27 42 27]\n",
            " [37 28 28 28]\n",
            " [26 32 29 39]\n",
            " [28 32 37 35]]\n",
            "              precision    recall  f1-score   support\n",
            "\n",
            "           0       0.22      0.21      0.21       121\n",
            "           1       0.24      0.23      0.23       121\n",
            "           2       0.21      0.23      0.22       126\n",
            "           3       0.27      0.27      0.27       132\n",
            "\n",
            "    accuracy                           0.23       500\n",
            "   macro avg       0.23      0.23      0.23       500\n",
            "weighted avg       0.23      0.23      0.23       500\n",
            "\n"
          ]
        }
      ]
    },
    {
      "cell_type": "markdown",
      "source": [
        "## 6.Report the model with BEST ACCURACY"
      ],
      "metadata": {
        "id": "QgkY3kZoZ4PV"
      }
    },
    {
      "cell_type": "code",
      "source": [
        "plt.bar(x=['lgt','knn','dtc','rfc','svm'],height=['lgt_ac','knn_ac','dtc_ac','rfc_ac','svm_ac'],label='model_ac')\n",
        "plt.title(\"BEST ACCURACY\")\n",
        "plt.xlabel(\"Algorithms\")\n",
        "plt.ylabel(\"Accuracy score\")\n",
        "plt.legend()\n",
        "plt.show()"
      ],
      "metadata": {
        "colab": {
          "base_uri": "https://localhost:8080/",
          "height": 295
        },
        "id": "4JunxHG-hz6H",
        "outputId": "919219d5-32fa-4112-8d76-89a88f23602f"
      },
      "execution_count": null,
      "outputs": [
        {
          "output_type": "display_data",
          "data": {
            "text/plain": [
              "<Figure size 432x288 with 1 Axes>"
            ],
            "image/png": "[encoded data removed]"
          },
          "metadata": {
            "needs_background": "light"
          }
        }
      ]
    }
  ]
}